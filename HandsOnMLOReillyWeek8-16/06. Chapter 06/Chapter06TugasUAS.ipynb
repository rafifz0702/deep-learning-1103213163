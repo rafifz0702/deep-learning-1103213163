{
  "nbformat": 4,
  "nbformat_minor": 0,
  "metadata": {
    "colab": {
      "provenance": []
    },
    "kernelspec": {
      "name": "python3",
      "display_name": "Python 3"
    },
    "language_info": {
      "name": "python"
    }
  },
  "cells": [
    {
      "cell_type": "markdown",
      "source": [
        "Train a DecisionTreeClassifier on the iris dataset"
      ],
      "metadata": {
        "id": "AmtNiR4tF5fs"
      }
    },
    {
      "cell_type": "code",
      "execution_count": null,
      "metadata": {
        "id": "x_hOoMIOFy3C"
      },
      "outputs": [],
      "source": [
        "from sklearn.datasets import load_iris\n",
        "from sklearn.tree import DecisionTreeClassifier\n",
        "\n",
        "iris = load_iris()\n",
        "X = iris.data[:, 2:] # petal length and width\n",
        "y = iris.target\n",
        "\n",
        "tree_clf = DecisionTreeClassifier(max_depth=2)\n",
        "tree_clf.fit(X, y)"
      ]
    },
    {
      "cell_type": "markdown",
      "source": [
        "Output a graph definition file called `iris_tree.dot` to visualize the trained Decision Tree"
      ],
      "metadata": {
        "id": "5OSvc6yLGBDz"
      }
    },
    {
      "cell_type": "code",
      "source": [
        "from sklearn.tree import export_graphviz\n",
        "\n",
        "export_graphviz(\n",
        "        tree_clf,\n",
        "        out_file=image_path(\"iris_tree.dot\"),\n",
        "        feature_names=iris.feature_names[2:],\n",
        "        class_names=iris.target_names,\n",
        "        rounded=True,\n",
        "        filled=True\n",
        "    )"
      ],
      "metadata": {
        "id": "U-v0DOQ8F-0L"
      },
      "execution_count": null,
      "outputs": []
    },
    {
      "cell_type": "markdown",
      "source": [
        "Converts the .dot file to a .png image file"
      ],
      "metadata": {
        "id": "SfOvSOb7GRG_"
      }
    },
    {
      "cell_type": "code",
      "source": [
        "$ dot -Tpng iris_tree.dot -o iris_tree.png"
      ],
      "metadata": {
        "id": "22I_4AW6GPdX"
      },
      "execution_count": null,
      "outputs": []
    },
    {
      "cell_type": "markdown",
      "source": [
        "Estimate the probability that an instance belongs to a particular class k."
      ],
      "metadata": {
        "id": "mLE7DDPrGZuK"
      }
    },
    {
      "cell_type": "code",
      "source": [
        ">>> tree_clf.predict_proba([[5, 1.5]])"
      ],
      "metadata": {
        "id": "TXqoKOXJGUic"
      },
      "execution_count": null,
      "outputs": []
    },
    {
      "cell_type": "code",
      "source": [
        ">>> tree_clf.predict([[5, 1.5]])"
      ],
      "metadata": {
        "id": "Zn1_4uUrGXr7"
      },
      "execution_count": null,
      "outputs": []
    },
    {
      "cell_type": "markdown",
      "source": [
        "Build a regression tree using Scikit-Learn’s `DecisionTreeRegressor` class, training it on a noisy\n",
        "quadratic dataset with `max_depth=2`"
      ],
      "metadata": {
        "id": "zNpQwwdLGyYX"
      }
    },
    {
      "cell_type": "code",
      "source": [
        "from sklearn.tree import DecisionTreeRegressor\n",
        "\n",
        "tree_reg = DecisionTreeRegressor(max_depth=2)\n",
        "tree_reg.fit(X, y)"
      ],
      "metadata": {
        "id": "fmu3JhaIGpqs"
      },
      "execution_count": null,
      "outputs": []
    }
  ]
}