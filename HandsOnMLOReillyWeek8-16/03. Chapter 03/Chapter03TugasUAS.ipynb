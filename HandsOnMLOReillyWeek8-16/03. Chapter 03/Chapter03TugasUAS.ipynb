{
  "nbformat": 4,
  "nbformat_minor": 0,
  "metadata": {
    "colab": {
      "provenance": []
    },
    "kernelspec": {
      "name": "python3",
      "display_name": "Python 3"
    },
    "language_info": {
      "name": "python"
    }
  },
  "cells": [
    {
      "cell_type": "markdown",
      "source": [
        "Fetches the MNIST dataset"
      ],
      "metadata": {
        "id": "EQQ9_gk7jaYN"
      }
    },
    {
      "cell_type": "code",
      "execution_count": null,
      "metadata": {
        "id": "IwABKyJ-jRXF"
      },
      "outputs": [],
      "source": [
        ">>> from sklearn.datasets import fetch_openml\n",
        ">>> mnist = fetch_openml('mnist_784', version=1)\n",
        ">>> mnist.keys()"
      ]
    },
    {
      "cell_type": "markdown",
      "source": [
        "Look at the arrays"
      ],
      "metadata": {
        "id": "ejt1vWyOjfZu"
      }
    },
    {
      "cell_type": "code",
      "source": [
        ">>> X, y = mnist[\"data\"], mnist[\"target\"]\n",
        ">>> X.shape\n",
        ">>> y.shape"
      ],
      "metadata": {
        "id": "HREyij6Hjb0s"
      },
      "execution_count": null,
      "outputs": []
    },
    {
      "cell_type": "markdown",
      "source": [
        "Grab an instance’s feature vector, reshape it to a 28 × 28 array, and display it"
      ],
      "metadata": {
        "id": "Me5E7L9HjlFP"
      }
    },
    {
      "cell_type": "code",
      "source": [
        "import matplotlib as mpl\n",
        "import matplotlib.pyplot as plt\n",
        "\n",
        "some_digit = X[0]\n",
        "some_digit_image = some_digit.reshape(28, 28)\n",
        "\n",
        "plt.imshow(some_digit_image, cmap=\"binary\")\n",
        "plt.axis(\"off\")\n",
        "plt.show()"
      ],
      "metadata": {
        "id": "cu46AaKDjjlu"
      },
      "execution_count": null,
      "outputs": []
    },
    {
      "cell_type": "markdown",
      "source": [
        "Cast y to\n",
        "integer"
      ],
      "metadata": {
        "id": "Hv222pAajtjt"
      }
    },
    {
      "cell_type": "code",
      "source": [
        ">>> y = y.astype(np.uint8)"
      ],
      "metadata": {
        "id": "D_Ix8TWAjxAS"
      },
      "execution_count": null,
      "outputs": []
    },
    {
      "cell_type": "markdown",
      "source": [
        "Split into a training set and a test set"
      ],
      "metadata": {
        "id": "k482X9-Cj5pZ"
      }
    },
    {
      "cell_type": "code",
      "source": [
        "X_train, X_test, y_train, y_test = X[:60000], X[60000:], y[:60000], y[60000:]"
      ],
      "metadata": {
        "id": "A1LxqVEHj3O5"
      },
      "execution_count": null,
      "outputs": []
    },
    {
      "cell_type": "markdown",
      "source": [
        "Create the target vectors for\n",
        "the classification task"
      ],
      "metadata": {
        "id": "t1a3o8eCkJhK"
      }
    },
    {
      "cell_type": "code",
      "source": [
        "y_train_5 = (y_train == 5) # True for all 5s, False for all other digits\n",
        "y_test_5 = (y_test == 5)"
      ],
      "metadata": {
        "id": "Dgtb4CjnkGEE"
      },
      "execution_count": null,
      "outputs": []
    },
    {
      "cell_type": "markdown",
      "source": [
        "Create an SGDClassifier and train it on the whole training set"
      ],
      "metadata": {
        "id": "aMHbAnH5kNpZ"
      }
    },
    {
      "cell_type": "code",
      "source": [
        "from sklearn.linear_model import SGDClassifier\n",
        "\n",
        "sgd_clf = SGDClassifier(random_state=42)\n",
        "sgd_clf.fit(X_train, y_train_5)"
      ],
      "metadata": {
        "id": "DouHZM3skKzh"
      },
      "execution_count": null,
      "outputs": []
    },
    {
      "cell_type": "markdown",
      "source": [
        "Detect images of the number 5"
      ],
      "metadata": {
        "id": "uLYgtAE_kTOd"
      }
    },
    {
      "cell_type": "code",
      "source": [
        ">>> sgd_clf.predict([some_digit])"
      ],
      "metadata": {
        "id": "FrFVX0p-kRxL"
      },
      "execution_count": null,
      "outputs": []
    },
    {
      "cell_type": "markdown",
      "source": [
        "Evaluate SGDClassifier model using K-fold cross-validation with three folds"
      ],
      "metadata": {
        "id": "ECn5zC_HrqwQ"
      }
    },
    {
      "cell_type": "code",
      "source": [
        ">>> from sklearn.model_selection import cross_val_score\n",
        ">>> cross_val_score(sgd_clf, X_train, y_train_5, cv=3, scoring=\"accuracy\")"
      ],
      "metadata": {
        "id": "idBZibM9kVsp"
      },
      "execution_count": null,
      "outputs": []
    },
    {
      "cell_type": "markdown",
      "source": [
        "Using a worse classifier that just classifies every single image in the “not-5” class"
      ],
      "metadata": {
        "id": "YA9qV4gtsCBy"
      }
    },
    {
      "cell_type": "code",
      "source": [
        "from sklearn.base import BaseEstimator\n",
        "class Never5Classifier(BaseEstimator):\n",
        "    def fit(self, X, y=None):\n",
        "        return self\n",
        "    def predict(self, X):\n",
        "        return np.zeros((len(X), 1), dtype=bool)"
      ],
      "metadata": {
        "id": "2YxPdOsAr2ny"
      },
      "execution_count": null,
      "outputs": []
    },
    {
      "cell_type": "markdown",
      "source": [
        "Evaluate the model"
      ],
      "metadata": {
        "id": "VIfF3sdjsIQ0"
      }
    },
    {
      "cell_type": "code",
      "source": [
        ">>> never_5_clf = Never5Classifier()\n",
        ">>> cross_val_score(never_5_clf, X_train, y_train_5, cv=3, scoring=\"accuracy\")"
      ],
      "metadata": {
        "id": "V6ZWMvm8sGj2"
      },
      "execution_count": null,
      "outputs": []
    },
    {
      "cell_type": "markdown",
      "source": [
        "Compute the confusion matrix:\n",
        "*   Use the `cross_val_predict()` function\n",
        "*   Pass the target classes (y_train_5) and the predicted classes\n",
        "(y_train_pred)\n",
        "\n"
      ],
      "metadata": {
        "id": "-tg63JW2sUjN"
      }
    },
    {
      "cell_type": "code",
      "source": [
        "from sklearn.model_selection import cross_val_predict\n",
        "\n",
        "y_train_pred = cross_val_predict(sgd_clf, X_train, y_train_5, cv=3)"
      ],
      "metadata": {
        "id": "YWQHewLKsSCB"
      },
      "execution_count": null,
      "outputs": []
    },
    {
      "cell_type": "code",
      "source": [
        ">>> from sklearn.metrics import confusion_matrix\n",
        ">>> confusion_matrix(y_train_5, y_train_pred)"
      ],
      "metadata": {
        "id": "m0kZjgKwssGE"
      },
      "execution_count": null,
      "outputs": []
    },
    {
      "cell_type": "markdown",
      "source": [
        "Using a supposed perfect prediction for the confusion matrix"
      ],
      "metadata": {
        "id": "eRhq0J1Ts-GB"
      }
    },
    {
      "cell_type": "code",
      "source": [
        ">>> y_train_perfect_predictions = y_train_5 # pretend we reached perfection\n",
        ">>> confusion_matrix(y_train_5, y_train_perfect_predictions)"
      ],
      "metadata": {
        "id": "6XRzMjXdsuGH"
      },
      "execution_count": null,
      "outputs": []
    },
    {
      "cell_type": "markdown",
      "source": [
        "Functions to compute classifier metrics (Precision and Recall)"
      ],
      "metadata": {
        "id": "bghV_jBqtJBt"
      }
    },
    {
      "cell_type": "code",
      "source": [
        ">>> from sklearn.metrics import precision_score, recall_score\n",
        ">>> precision_score(y_train_5, y_train_pred) # == 4096 / (4096 + 1522)\n",
        ">>> recall_score(y_train_5, y_train_pred) # == 4096 / (4096 + 1325)"
      ],
      "metadata": {
        "id": "xWcY3HyatDmk"
      },
      "execution_count": null,
      "outputs": []
    },
    {
      "cell_type": "markdown",
      "source": [
        "Compute the F1 Score"
      ],
      "metadata": {
        "id": "MNP-zmq-tP9l"
      }
    },
    {
      "cell_type": "code",
      "source": [
        ">>> from sklearn.metrics import f1_score\n",
        ">>> f1_score(y_train_5, y_train_pred)"
      ],
      "metadata": {
        "id": "MJ1x381WtN-U"
      },
      "execution_count": null,
      "outputs": []
    },
    {
      "cell_type": "markdown",
      "source": [
        "Calling decision_function() method to return a\n",
        "score for each instance, then use any threshold to make predictions\n",
        "based on those scores"
      ],
      "metadata": {
        "id": "gpTevb8QtZtK"
      }
    },
    {
      "cell_type": "code",
      "source": [
        ">>> y_scores = sgd_clf.decision_function([some_digit])\n",
        ">>> y_scores"
      ],
      "metadata": {
        "id": "AXA6Ue0GtVaC"
      },
      "execution_count": null,
      "outputs": []
    },
    {
      "cell_type": "code",
      "source": [
        ">>> threshold = 0\n",
        ">>> y_some_digit_pred = (y_scores > threshold)"
      ],
      "metadata": {
        "id": "Tri2xcgKtYPK"
      },
      "execution_count": null,
      "outputs": []
    },
    {
      "cell_type": "markdown",
      "source": [
        "Raising the threshold"
      ],
      "metadata": {
        "id": "PmPbJ9x4toVT"
      }
    },
    {
      "cell_type": "code",
      "source": [
        ">>> threshold = 8000\n",
        ">>> y_some_digit_pred = (y_scores > threshold)\n",
        ">>> y_some_digit_pred"
      ],
      "metadata": {
        "id": "NMTzTn8Mtl-n"
      },
      "execution_count": null,
      "outputs": []
    },
    {
      "cell_type": "markdown",
      "source": [
        "Get the scores of all instances in the training set with specification to return decision scores instead of predictions"
      ],
      "metadata": {
        "id": "D-Mpm2m9txh3"
      }
    },
    {
      "cell_type": "code",
      "source": [
        "y_scores = cross_val_predict(sgd_clf, X_train, y_train_5, cv=3,\n",
        "                             method=\"decision_function\")"
      ],
      "metadata": {
        "id": "60_J1LYltrT_"
      },
      "execution_count": null,
      "outputs": []
    },
    {
      "cell_type": "markdown",
      "source": [
        "Compute precision\n",
        "and recall for all possible thresholds"
      ],
      "metadata": {
        "id": "jMNNJTYZt9DB"
      }
    },
    {
      "cell_type": "code",
      "source": [
        "from sklearn.metrics import precision_recall_curve\n",
        "\n",
        "precisions, recalls, thresholds = precision_recall_curve(y_train_5, y_scores)"
      ],
      "metadata": {
        "id": "gIjai9dOt4om"
      },
      "execution_count": null,
      "outputs": []
    },
    {
      "cell_type": "markdown",
      "source": [
        "Plot precision and recall as functions of the threshold value"
      ],
      "metadata": {
        "id": "qXEfZyHGuOxJ"
      }
    },
    {
      "cell_type": "code",
      "source": [
        "def plot_precision_recall_vs_threshold(precisions, recalls, thresholds):\n",
        "    plt.plot(thresholds, precisions[:-1], \"b--\", label=\"Precision\")\n",
        "    plt.plot(thresholds, recalls[:-1], \"g-\", label=\"Recall\")\n",
        "    [...] # highlight the threshold and add the legend, axis label, and grid\n",
        "\n",
        "plot_precision_recall_vs_threshold(precisions, recalls, thresholds)\n",
        "plt.show()"
      ],
      "metadata": {
        "id": "HOprqYx4t926"
      },
      "execution_count": null,
      "outputs": []
    },
    {
      "cell_type": "markdown",
      "source": [
        "Search for the\n",
        "lowest threshold that gives at least 90% precision and make predictions"
      ],
      "metadata": {
        "id": "72e58gJGuaUS"
      }
    },
    {
      "cell_type": "code",
      "source": [
        "threshold_90_precision = thresholds[np.argmax(precisions >= 0.90)] # ~7816\n",
        "\n",
        "y_train_pred_90 = (y_scores >= threshold_90_precision)"
      ],
      "metadata": {
        "id": "evTNYl8EuSES"
      },
      "execution_count": null,
      "outputs": []
    },
    {
      "cell_type": "code",
      "source": [
        ">>> precision_score(y_train_5, y_train_pred_90)\n",
        "\n",
        ">>> recall_score(y_train_5, y_train_pred_90)"
      ],
      "metadata": {
        "id": "S5XGDtJguX1S"
      },
      "execution_count": null,
      "outputs": []
    },
    {
      "cell_type": "markdown",
      "source": [
        "Use the `roc_curve()` function to compute the TPR\n",
        "and FPR for various threshold values"
      ],
      "metadata": {
        "id": "LQA02f__urz6"
      }
    },
    {
      "cell_type": "code",
      "source": [
        "from sklearn.metrics import roc_curve\n",
        "\n",
        "fpr, tpr, thresholds = roc_curve(y_train_5, y_scores)"
      ],
      "metadata": {
        "id": "zffwGR3DuobO"
      },
      "execution_count": null,
      "outputs": []
    },
    {
      "cell_type": "markdown",
      "source": [
        "Plot the FPR against the TPR"
      ],
      "metadata": {
        "id": "JOjBUhE8u52g"
      }
    },
    {
      "cell_type": "code",
      "source": [
        "def plot_roc_curve(fpr, tpr, label=None):\n",
        "    plt.plot(fpr, tpr, linewidth=2, label=label)\n",
        "    plt.plot([0, 1], [0, 1], 'k--') # Dashed diagonal\n",
        "    [...] # Add axis labels and grid\n",
        "\n",
        "plot_roc_curve(fpr, tpr)\n",
        "plt.show()"
      ],
      "metadata": {
        "id": "Gs-a3gH3u0J9"
      },
      "execution_count": null,
      "outputs": []
    },
    {
      "cell_type": "markdown",
      "source": [
        "Function to compute the ROC\n",
        "AUC"
      ],
      "metadata": {
        "id": "ZXxl3_b9u-97"
      }
    },
    {
      "cell_type": "code",
      "source": [
        ">>> from sklearn.metrics import roc_auc_score\n",
        ">>> roc_auc_score(y_train_5, y_scores)"
      ],
      "metadata": {
        "id": "1iZv-UAVu87I"
      },
      "execution_count": null,
      "outputs": []
    },
    {
      "cell_type": "markdown",
      "source": [
        "Train a RandomForestClassifier and compare its ROC curve and ROC\n",
        "AUC score to those of the SGDClassifier"
      ],
      "metadata": {
        "id": "VUGyTXg-vB5V"
      }
    },
    {
      "cell_type": "code",
      "source": [
        "from sklearn.ensemble import RandomForestClassifier\n",
        "forest_clf = RandomForestClassifier(random_state=42)\n",
        "y_probas_forest = cross_val_predict(forest_clf, X_train, y_train_5, cv=3,\n",
        " method=\"predict_proba\")"
      ],
      "metadata": {
        "id": "314IQHKru_vf"
      },
      "execution_count": null,
      "outputs": []
    },
    {
      "cell_type": "markdown",
      "source": [
        "Using the positive class’s probability as the score for the `roc_curve()` function"
      ],
      "metadata": {
        "id": "3PSweSRMvPr-"
      }
    },
    {
      "cell_type": "code",
      "source": [
        "y_scores_forest = y_probas_forest[:, 1] # score = proba of positive class\n",
        "fpr_forest, tpr_forest, thresholds_forest = roc_curve(y_train_5,y_scores_forest)"
      ],
      "metadata": {
        "id": "eeJugotKvMYi"
      },
      "execution_count": null,
      "outputs": []
    },
    {
      "cell_type": "markdown",
      "source": [
        "Plot the ROC curve"
      ],
      "metadata": {
        "id": "1EI8WvSfvYmj"
      }
    },
    {
      "cell_type": "code",
      "source": [
        "plt.plot(fpr, tpr, \"b:\", label=\"SGD\")\n",
        "plot_roc_curve(fpr_forest, tpr_forest, \"Random Forest\")\n",
        "plt.legend(loc=\"lower right\")\n",
        "plt.show()"
      ],
      "metadata": {
        "id": "J9h2fX8XvWhu"
      },
      "execution_count": null,
      "outputs": []
    },
    {
      "cell_type": "markdown",
      "source": [
        "Measuring the precision and recall scores"
      ],
      "metadata": {
        "id": "vosDqtpTvhmR"
      }
    },
    {
      "cell_type": "code",
      "source": [
        ">>> roc_auc_score(y_train_5, y_scores_forest)"
      ],
      "metadata": {
        "id": "TqZIM9HPvcXF"
      },
      "execution_count": null,
      "outputs": []
    },
    {
      "cell_type": "markdown",
      "source": [
        "Using a binary classification algorithm for a multiclass classification task"
      ],
      "metadata": {
        "id": "G7vQDkhWvlUM"
      }
    },
    {
      "cell_type": "code",
      "source": [
        ">>> from sklearn.svm import SVC\n",
        ">>> svm_clf = SVC()\n",
        ">>> svm_clf.fit(X_train, y_train) # y_train, not y_train_5\n",
        ">>> svm_clf.predict([some_digit])"
      ],
      "metadata": {
        "id": "y9_lXC89vjYP"
      },
      "execution_count": null,
      "outputs": []
    },
    {
      "cell_type": "markdown",
      "source": [
        "Call the `decision_function()` method"
      ],
      "metadata": {
        "id": "-pbfqpvDvzLM"
      }
    },
    {
      "cell_type": "code",
      "source": [
        ">>> some_digit_scores = svm_clf.decision_function([some_digit])\n",
        ">>> some_digit_scores"
      ],
      "metadata": {
        "id": "4jK7TrVWvuYS"
      },
      "execution_count": null,
      "outputs": []
    },
    {
      "cell_type": "markdown",
      "source": [
        "Seeing the highest score (the one corresponding to class 5)"
      ],
      "metadata": {
        "id": "Ulcp6J4nv6Qe"
      }
    },
    {
      "cell_type": "code",
      "source": [
        ">>> np.argmax(some_digit_scores)\n",
        ">>> svm_clf.classes\n",
        ">>> svm_clf.classes_[5]"
      ],
      "metadata": {
        "id": "uXm3Nhlev2w1"
      },
      "execution_count": null,
      "outputs": []
    },
    {
      "cell_type": "markdown",
      "source": [
        "Forcing Scikit-Learn to use one-versus-one or one-versus-the-rest by creating an\n",
        "instance and passing a classifier to its constructor. Creates a multiclass classifier using the OvR strategy, based on an SVC"
      ],
      "metadata": {
        "id": "wOn4nMfFwHWj"
      }
    },
    {
      "cell_type": "code",
      "source": [
        ">>> from sklearn.multiclass import OneVsRestClassifier\n",
        ">>> ovr_clf = OneVsRestClassifier(SVC())\n",
        ">>> ovr_clf.fit(X_train, y_train)\n",
        ">>> ovr_clf.predict([some_digit])\n",
        ">>> len(ovr_clf.estimators_)"
      ],
      "metadata": {
        "id": "peHpxdvVwCyN"
      },
      "execution_count": null,
      "outputs": []
    },
    {
      "cell_type": "markdown",
      "source": [
        "Training an SGDClassifier"
      ],
      "metadata": {
        "id": "0L_Pr-ZGwg4D"
      }
    },
    {
      "cell_type": "code",
      "source": [
        ">>> sgd_clf.fit(X_train, y_train)\n",
        ">>> sgd_clf.predict([some_digit])"
      ],
      "metadata": {
        "id": "sWyRjxLRweU7"
      },
      "execution_count": null,
      "outputs": []
    },
    {
      "cell_type": "markdown",
      "source": [
        "Looking at the score that the SGD classifier assigned\n",
        "to each class"
      ],
      "metadata": {
        "id": "0Z-XxJMnwpDS"
      }
    },
    {
      "cell_type": "code",
      "source": [
        ">>> sgd_clf.decision_function([some_digit])"
      ],
      "metadata": {
        "id": "EQ7mB3R4wi4I"
      },
      "execution_count": null,
      "outputs": []
    },
    {
      "cell_type": "markdown",
      "source": [
        "Use the `cross_val_score()` function to evaluate the SGDClassifier’s accuracy"
      ],
      "metadata": {
        "id": "81ZCQXfjwt1x"
      }
    },
    {
      "cell_type": "code",
      "source": [
        ">>> cross_val_score(sgd_clf, X_train, y_train, cv=3, scoring=\"accuracy\")"
      ],
      "metadata": {
        "id": "ILKgV_Vgwq0o"
      },
      "execution_count": null,
      "outputs": []
    },
    {
      "cell_type": "markdown",
      "source": [
        "Scaling the inputs to increase accuracy to above 89%"
      ],
      "metadata": {
        "id": "2jKt1jz4wzRC"
      }
    },
    {
      "cell_type": "code",
      "source": [
        ">>> from sklearn.preprocessing import StandardScaler\n",
        ">>> scaler = StandardScaler()\n",
        ">>> X_train_scaled = scaler.fit_transform(X_train.astype(np.float64))\n",
        ">>> cross_val_score(sgd_clf, X_train_scaled, y_train, cv=3, scoring=\"accuracy\")"
      ],
      "metadata": {
        "id": "pFgz7ZtxwxV-"
      },
      "execution_count": null,
      "outputs": []
    },
    {
      "cell_type": "markdown",
      "source": [
        "Make predictions using the\n",
        "`cross_val_predict()` function, then calling the `confusion_matrix()` function"
      ],
      "metadata": {
        "id": "WWsXamE0w9cy"
      }
    },
    {
      "cell_type": "code",
      "source": [
        ">>> y_train_pred = cross_val_predict(sgd_clf, X_train_scaled, y_train, cv=3)\n",
        ">>> conf_mx = confusion_matrix(y_train, y_train_pred)\n",
        ">>> conf_mx"
      ],
      "metadata": {
        "id": "8uRLIrSFw8Ig"
      },
      "execution_count": null,
      "outputs": []
    },
    {
      "cell_type": "markdown",
      "source": [
        "Plot an image representation\n",
        "of the confusion matrix"
      ],
      "metadata": {
        "id": "591ZxFFxxJck"
      }
    },
    {
      "cell_type": "code",
      "source": [
        "plt.matshow(conf_mx, cmap=plt.cm.gray)\n",
        "plt.show()"
      ],
      "metadata": {
        "id": "VgJaLO4rxFCR"
      },
      "execution_count": null,
      "outputs": []
    },
    {
      "cell_type": "markdown",
      "source": [
        "Dividing each value in the confusion\n",
        "matrix by the number of images in the corresponding class"
      ],
      "metadata": {
        "id": "HzQkyLl9xNzg"
      }
    },
    {
      "cell_type": "code",
      "source": [
        "row_sums = conf_mx.sum(axis=1, keepdims=True)\n",
        "norm_conf_mx = conf_mx / row_sums"
      ],
      "metadata": {
        "id": "PvCtuRgQxMLN"
      },
      "execution_count": null,
      "outputs": []
    },
    {
      "cell_type": "markdown",
      "source": [
        "Fill the diagonal with zeros to keep only the errors, and plot the result"
      ],
      "metadata": {
        "id": "4rgU4fG7xW9M"
      }
    },
    {
      "cell_type": "code",
      "source": [
        "np.fill_diagonal(norm_conf_mx, 0)\n",
        "plt.matshow(norm_conf_mx, cmap=plt.cm.gray)\n",
        "plt.show()"
      ],
      "metadata": {
        "id": "fQTzq1cAxVGs"
      },
      "execution_count": null,
      "outputs": []
    },
    {
      "cell_type": "markdown",
      "source": [
        "Plot examples of 3s and 5s to analyze errors"
      ],
      "metadata": {
        "id": "1Wo_s-rFxiJT"
      }
    },
    {
      "cell_type": "code",
      "source": [
        "cl_a, cl_b = 3, 5\n",
        "X_aa = X_train[(y_train == cl_a) & (y_train_pred == cl_a)]\n",
        "X_ab = X_train[(y_train == cl_a) & (y_train_pred == cl_b)]\n",
        "X_ba = X_train[(y_train == cl_b) & (y_train_pred == cl_a)]\n",
        "X_bb = X_train[(y_train == cl_b) & (y_train_pred == cl_b)]\n",
        "\n",
        "plt.figure(figsize=(8,8))\n",
        "plt.subplot(221); plot_digits(X_aa[:25], images_per_row=5)\n",
        "plt.subplot(222); plot_digits(X_ab[:25], images_per_row=5)\n",
        "plt.subplot(223); plot_digits(X_ba[:25], images_per_row=5)\n",
        "plt.subplot(224); plot_digits(X_bb[:25], images_per_row=5)\n",
        "plt.show()"
      ],
      "metadata": {
        "id": "cGduo4DyxXzk"
      },
      "execution_count": null,
      "outputs": []
    },
    {
      "cell_type": "markdown",
      "source": [
        "A simpler example of a classification system that outputs multiple binary tags\n",
        "called a multilabel classification system"
      ],
      "metadata": {
        "id": "CJg62-5KxxED"
      }
    },
    {
      "cell_type": "code",
      "source": [
        "from sklearn.neighbors import KNeighborsClassifier\n",
        "\n",
        "y_train_large = (y_train >= 7)\n",
        "y_train_odd = (y_train % 2 == 1)\n",
        "y_multilabel = np.c_[y_train_large, y_train_odd]\n",
        "\n",
        "knn_clf = KNeighborsClassifier()\n",
        "knn_clf.fit(X_train, y_multilabel)"
      ],
      "metadata": {
        "id": "3iDVePRxxooS"
      },
      "execution_count": null,
      "outputs": []
    },
    {
      "cell_type": "markdown",
      "source": [
        "Make a prediction"
      ],
      "metadata": {
        "id": "IQFa9Z7zx6a9"
      }
    },
    {
      "cell_type": "code",
      "source": [
        ">>> knn_clf.predict([some_digit])"
      ],
      "metadata": {
        "id": "gIC5jkjhx4tr"
      },
      "execution_count": null,
      "outputs": []
    },
    {
      "cell_type": "markdown",
      "source": [
        "Compute the average F1 score across all labels"
      ],
      "metadata": {
        "id": "D71Os3qryJBi"
      }
    },
    {
      "cell_type": "code",
      "source": [
        ">>> y_train_knn_pred = cross_val_predict(knn_clf, X_train, y_multilabel, cv=3)\n",
        ">>> f1_score(y_multilabel, y_train_knn_pred, average=\"macro\")\n"
      ],
      "metadata": {
        "id": "ZZeSZzAZyFcK"
      },
      "execution_count": null,
      "outputs": []
    },
    {
      "cell_type": "markdown",
      "source": [
        "Creating the training and test sets by taking the MNIST images and\n",
        "adding noise to their pixel intensities"
      ],
      "metadata": {
        "id": "y_ZZJ7VuyRt3"
      }
    },
    {
      "cell_type": "code",
      "source": [
        "noise = np.random.randint(0, 100, (len(X_train), 784))\n",
        "X_train_mod = X_train + noise\n",
        "noise = np.random.randint(0, 100, (len(X_test), 784))\n",
        "X_test_mod = X_test + noise\n",
        "y_train_mod = X_train\n",
        "y_test_mod = X_test"
      ],
      "metadata": {
        "id": "qNl-XHtSyOn3"
      },
      "execution_count": null,
      "outputs": []
    },
    {
      "cell_type": "markdown",
      "source": [
        "Train the classifier and make it clean the image"
      ],
      "metadata": {
        "id": "N3V7Lb3xyZJl"
      }
    },
    {
      "cell_type": "code",
      "source": [
        "knn_clf.fit(X_train_mod, y_train_mod)\n",
        "clean_digit = knn_clf.predict([X_test_mod[some_index]])\n",
        "plot_digit(clean_digit)"
      ],
      "metadata": {
        "id": "dDZjthpZyV09"
      },
      "execution_count": null,
      "outputs": []
    }
  ]
}