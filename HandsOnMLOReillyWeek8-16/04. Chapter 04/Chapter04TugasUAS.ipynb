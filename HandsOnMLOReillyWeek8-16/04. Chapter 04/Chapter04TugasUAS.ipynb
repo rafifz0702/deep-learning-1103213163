{
  "nbformat": 4,
  "nbformat_minor": 0,
  "metadata": {
    "colab": {
      "provenance": []
    },
    "kernelspec": {
      "name": "python3",
      "display_name": "Python 3"
    },
    "language_info": {
      "name": "python"
    }
  },
  "cells": [
    {
      "cell_type": "markdown",
      "source": [
        "Generate some linear-looking data to test equation"
      ],
      "metadata": {
        "id": "MrWYJBn22mOp"
      }
    },
    {
      "cell_type": "code",
      "execution_count": null,
      "metadata": {
        "id": "FxN9K4vH2jxG"
      },
      "outputs": [],
      "source": [
        "import numpy as np\n",
        "X = 2 * np.random.rand(100, 1)\n",
        "y = 4 + 3 * X + np.random.randn(100, 1)"
      ]
    },
    {
      "cell_type": "markdown",
      "source": [
        "Compute the inverse of a matrix, and\n",
        "the `dot()` method for matrix multiplication"
      ],
      "metadata": {
        "id": "uprQAWsT2ugc"
      }
    },
    {
      "cell_type": "code",
      "source": [
        "X_b = np.c_[np.ones((100, 1)), X] # add x0 = 1 to each instance\n",
        "theta_best = np.linalg.inv(X_b.T.dot(X_b)).dot(X_b.T).dot(y)"
      ],
      "metadata": {
        "id": "dsrHQbVe2sjr"
      },
      "execution_count": null,
      "outputs": []
    },
    {
      "cell_type": "markdown",
      "source": [
        "Look at the resulting theta"
      ],
      "metadata": {
        "id": "75otTwRj3wsk"
      }
    },
    {
      "cell_type": "code",
      "source": [
        ">>> theta_best"
      ],
      "metadata": {
        "id": "G7a20Rwt22kd"
      },
      "execution_count": null,
      "outputs": []
    },
    {
      "cell_type": "markdown",
      "source": [
        "Make predictions using the value of θ that minimizes the cost function"
      ],
      "metadata": {
        "id": "q5YQCgWg27pd"
      }
    },
    {
      "cell_type": "code",
      "source": [
        ">>> X_new = np.array([[0], [2]])\n",
        ">>> X_new_b = np.c_[np.ones((2, 1)), X_new] # add x0 = 1 to each instance\n",
        ">>> y_predict = X_new_b.dot(theta_best)\n",
        ">>> y_predict"
      ],
      "metadata": {
        "id": "W2lFy_7c254r"
      },
      "execution_count": null,
      "outputs": []
    },
    {
      "cell_type": "markdown",
      "source": [
        "Plot the model’s predictions"
      ],
      "metadata": {
        "id": "ylLTkU9r3GKt"
      }
    },
    {
      "cell_type": "code",
      "source": [
        "plt.plot(X_new, y_predict, \"r-\")\n",
        "plt.plot(X, y, \"b.\")\n",
        "plt.axis([0, 2, 0, 15])\n",
        "plt.show()"
      ],
      "metadata": {
        "id": "b9IOKduP3DHu"
      },
      "execution_count": null,
      "outputs": []
    },
    {
      "cell_type": "markdown",
      "source": [
        "Performing Linear Regression"
      ],
      "metadata": {
        "id": "vwRCL39t3N7c"
      }
    },
    {
      "cell_type": "code",
      "source": [
        ">>> from sklearn.linear_model import LinearRegression\n",
        ">>> lin_reg = LinearRegression()\n",
        ">>> lin_reg.fit(X, y)\n",
        ">>> lin_reg.intercept_, lin_reg.coef_\n",
        ">>> lin_reg.predict(X_new)"
      ],
      "metadata": {
        "id": "sqCCi28G3I5U"
      },
      "execution_count": null,
      "outputs": []
    },
    {
      "cell_type": "markdown",
      "source": [
        "Calling The LinearRegression class directly"
      ],
      "metadata": {
        "id": "_q-z3_MT3TqO"
      }
    },
    {
      "cell_type": "code",
      "source": [
        ">>> theta_best_svd, residuals, rank, s = np.linalg.lstsq(X_b, y, rcond=1e-6)\n",
        ">>> theta_best_svd"
      ],
      "metadata": {
        "id": "h-oygBZC3Pmi"
      },
      "execution_count": null,
      "outputs": []
    },
    {
      "cell_type": "markdown",
      "source": [
        "Compute the\n",
        "pseudoinverse directly"
      ],
      "metadata": {
        "id": "h4VbyiaR3anZ"
      }
    },
    {
      "cell_type": "code",
      "source": [
        ">>> np.linalg.pinv(X_b).dot(y)"
      ],
      "metadata": {
        "id": "cHsZ8esI3Xk7"
      },
      "execution_count": null,
      "outputs": []
    },
    {
      "cell_type": "markdown",
      "source": [
        "Quick implementation of Gradient Descent step algorithm"
      ],
      "metadata": {
        "id": "6e7C-Zbs3fsW"
      }
    },
    {
      "cell_type": "code",
      "source": [
        "eta = 0.1 # learning rate\n",
        "n_iterations = 1000\n",
        "m = 100\n",
        "\n",
        "theta = np.random.randn(2,1) # random initialization\n",
        "\n",
        "for iteration in range(n_iterations):\n",
        "    gradients = 2/m * X_b.T.dot(X_b.dot(theta) - y)\n",
        "    theta = theta - eta * gradients"
      ],
      "metadata": {
        "id": "SVuYY2l-3bfA"
      },
      "execution_count": null,
      "outputs": []
    },
    {
      "cell_type": "markdown",
      "source": [
        "Look at the resulting theta"
      ],
      "metadata": {
        "id": "j5p3TawM3uTK"
      }
    },
    {
      "cell_type": "code",
      "source": [
        ">>> theta"
      ],
      "metadata": {
        "id": "xLMaa5jw3rxe"
      },
      "execution_count": null,
      "outputs": []
    },
    {
      "cell_type": "markdown",
      "source": [
        "Implement Stochastic Gradient Descent using a simple learning schedule"
      ],
      "metadata": {
        "id": "UWlZdNkC3zts"
      }
    },
    {
      "cell_type": "code",
      "source": [
        "n_epochs = 50\n",
        "t0, t1 = 5, 50 # learning schedule hyperparameters\n",
        "\n",
        "def learning_schedule(t):\n",
        "    return t0 / (t + t1)\n",
        "\n",
        "theta = np.random.randn(2,1) # random initialization\n",
        "\n",
        "for epoch in range(n_epochs):\n",
        "    for i in range(m):\n",
        "        random_index = np.random.randint(m)\n",
        "        xi = X_b[random_index:random_index+1]\n",
        "        yi = y[random_index:random_index+1]\n",
        "        gradients = 2 * xi.T.dot(xi.dot(theta) - yi)\n",
        "        eta = learning_schedule(epoch * m + i)\n",
        "        theta = theta - eta * gradients"
      ],
      "metadata": {
        "id": "UuuTM4CH3xbU"
      },
      "execution_count": null,
      "outputs": []
    },
    {
      "cell_type": "markdown",
      "source": [
        "Look at the resulting theta"
      ],
      "metadata": {
        "id": "Ucabat1z3-_B"
      }
    },
    {
      "cell_type": "code",
      "source": [
        ">>> theta"
      ],
      "metadata": {
        "id": "fYi6bAPJ39oQ"
      },
      "execution_count": null,
      "outputs": []
    },
    {
      "cell_type": "markdown",
      "source": [
        "Using the\n",
        "`SGDRegressor` class to perform Linear Regression using Stochastic GD with Scikit-Learn"
      ],
      "metadata": {
        "id": "ckU4IKqm4GKk"
      }
    },
    {
      "cell_type": "code",
      "source": [
        "from sklearn.linear_model import SGDRegressor\n",
        "sgd_reg = SGDRegressor(max_iter=1000, tol=1e-3, penalty=None, eta0=0.1)\n",
        "sgd_reg.fit(X, y.ravel())"
      ],
      "metadata": {
        "id": "hdk9__BB4Bec"
      },
      "execution_count": null,
      "outputs": []
    },
    {
      "cell_type": "code",
      "source": [
        ">>> sgd_reg.intercept_, sgd_reg.coef_"
      ],
      "metadata": {
        "id": "29qEQFb24FW9"
      },
      "execution_count": null,
      "outputs": []
    },
    {
      "cell_type": "markdown",
      "source": [
        "Generate some nonlinear data based on a simple\n",
        "quadratic equation"
      ],
      "metadata": {
        "id": "2oIWLugo4UTs"
      }
    },
    {
      "cell_type": "code",
      "source": [
        "m = 100\n",
        "X = 6 * np.random.rand(m, 1) - 3\n",
        "y = 0.5 * X**2 + X + 2 + np.random.randn(m, 1)"
      ],
      "metadata": {
        "id": "R1m7p8VB4SVl"
      },
      "execution_count": null,
      "outputs": []
    },
    {
      "cell_type": "markdown",
      "source": [
        "Transform the training data, adding the square (seconddegree polynomial) of each feature in the training set as a new feature"
      ],
      "metadata": {
        "id": "Na9W4Ta24g4M"
      }
    },
    {
      "cell_type": "code",
      "source": [
        ">>> from sklearn.preprocessing import PolynomialFeatures\n",
        ">>> poly_features = PolynomialFeatures(degree=2, include_bias=False)\n",
        ">>> X_poly = poly_features.fit_transform(X)\n",
        ">>> X[0]\n",
        ">>> X_poly[0]"
      ],
      "metadata": {
        "id": "fCcKc0bW4bBJ"
      },
      "execution_count": null,
      "outputs": []
    },
    {
      "cell_type": "markdown",
      "source": [
        "Fit a LinearRegression model to the extended training data"
      ],
      "metadata": {
        "id": "mVDOUhps4pBu"
      }
    },
    {
      "cell_type": "code",
      "source": [
        ">>> lin_reg = LinearRegression()\n",
        ">>> lin_reg.fit(X_poly, y)\n",
        ">>> lin_reg.intercept_, lin_reg.coef"
      ],
      "metadata": {
        "id": "jJYo9GrM4ms5"
      },
      "execution_count": null,
      "outputs": []
    },
    {
      "cell_type": "markdown",
      "source": [
        "Define a function that plots the learning curves of a model given some training data"
      ],
      "metadata": {
        "id": "osnd76Pi4xVx"
      }
    },
    {
      "cell_type": "code",
      "source": [
        "from sklearn.metrics import mean_squared_error\n",
        "from sklearn.model_selection import train_test_split\n",
        "\n",
        "def plot_learning_curves(model, X, y):\n",
        "    X_train, X_val, y_train, y_val = train_test_split(X, y, test_size=0.2)\n",
        "    train_errors, val_errors = [], []\n",
        "    for m in range(1, len(X_train)):\n",
        "        model.fit(X_train[:m], y_train[:m])\n",
        "        y_train_predict = model.predict(X_train[:m])\n",
        "        y_val_predict = model.predict(X_val)\n",
        "        train_errors.append(mean_squared_error(y_train[:m], y_train_predict))\n",
        "        val_errors.append(mean_squared_error(y_val, y_val_predict))\n",
        "    plt.plot(np.sqrt(train_errors), \"r-+\", linewidth=2, label=\"train\")\n",
        "    plt.plot(np.sqrt(val_errors), \"b-\", linewidth=3, label=\"val\")"
      ],
      "metadata": {
        "id": "bh7ZEeHn4uda"
      },
      "execution_count": null,
      "outputs": []
    },
    {
      "cell_type": "markdown",
      "source": [
        "Plot the learning curves of the plain Linear Regression model"
      ],
      "metadata": {
        "id": "7L963f_u5DZ2"
      }
    },
    {
      "cell_type": "code",
      "source": [
        "lin_reg = LinearRegression()\n",
        "plot_learning_curves(lin_reg, X, y)"
      ],
      "metadata": {
        "id": "Xx-2sKDj46Yh"
      },
      "execution_count": null,
      "outputs": []
    },
    {
      "cell_type": "markdown",
      "source": [
        "Plot the learning curves of a 10th-degree polynomial model on the same\n",
        "data"
      ],
      "metadata": {
        "id": "CEZLLQWB5KMn"
      }
    },
    {
      "cell_type": "code",
      "source": [
        "from sklearn.pipeline import Pipeline\n",
        "\n",
        "polynomial_regression = Pipeline([\n",
        "        (\"poly_features\", PolynomialFeatures(degree=10, include_bias=False)),\n",
        "        (\"lin_reg\", LinearRegression()),\n",
        "    ])\n",
        "\n",
        "plot_learning_curves(polynomial_regression, X, y)"
      ],
      "metadata": {
        "id": "i2KqHGNZ5IOO"
      },
      "execution_count": null,
      "outputs": []
    },
    {
      "cell_type": "markdown",
      "source": [
        "Perform Ridge Regression with Scikit-Learn using a closed-form solu‐\n",
        "tion (a variant of Equation 4-9 that uses a matrix factorization technique by AndréLouis Cholesky)"
      ],
      "metadata": {
        "id": "-MAc_6-45f-g"
      }
    },
    {
      "cell_type": "code",
      "source": [
        ">>> from sklearn.linear_model import Ridge\n",
        ">>> ridge_reg = Ridge(alpha=1, solver=\"cholesky\")\n",
        ">>> ridge_reg.fit(X, y)\n",
        ">>> ridge_reg.predict([[1.5]])"
      ],
      "metadata": {
        "id": "9dWb1cpz5Vc2"
      },
      "execution_count": null,
      "outputs": []
    },
    {
      "cell_type": "markdown",
      "source": [
        "Using Stochastic Gradient Descent"
      ],
      "metadata": {
        "id": "YgCvLgAH5jLH"
      }
    },
    {
      "cell_type": "code",
      "source": [
        ">>> sgd_reg = SGDRegressor(penalty=\"l2\")\n",
        ">>> sgd_reg.fit(X, y.ravel())\n",
        ">>> sgd_reg.predict([[1.5]])"
      ],
      "metadata": {
        "id": "0WBoANxj5bcF"
      },
      "execution_count": null,
      "outputs": []
    },
    {
      "cell_type": "markdown",
      "source": [
        "Scikit-Learn example using the Lasso class"
      ],
      "metadata": {
        "id": "EFWL4LiX5wLi"
      }
    },
    {
      "cell_type": "code",
      "source": [
        ">>> from sklearn.linear_model import Lasso\n",
        ">>> lasso_reg = Lasso(alpha=0.1)\n",
        ">>> lasso_reg.fit(X, y)\n",
        ">>> lasso_reg.predict([[1.5]])"
      ],
      "metadata": {
        "id": "V5J97ZLR5tR6"
      },
      "execution_count": null,
      "outputs": []
    },
    {
      "cell_type": "markdown",
      "source": [
        "Short example that uses Scikit-Learn’s ElasticNet"
      ],
      "metadata": {
        "id": "EPefrTKj50S7"
      }
    },
    {
      "cell_type": "code",
      "source": [
        ">>> from sklearn.linear_model import ElasticNet\n",
        ">>> elastic_net = ElasticNet(alpha=0.1, l1_ratio=0.5)\n",
        ">>> elastic_net.fit(X, y)\n",
        ">>> elastic_net.predict([[1.5]])"
      ],
      "metadata": {
        "id": "4h-Mqjf05w0e"
      },
      "execution_count": null,
      "outputs": []
    },
    {
      "cell_type": "markdown",
      "source": [
        "Basic implementation of early stopping"
      ],
      "metadata": {
        "id": "03daWIzF6G5L"
      }
    },
    {
      "cell_type": "code",
      "source": [
        "from sklearn.base import clone\n",
        "\n",
        "# prepare the data\n",
        "poly_scaler = Pipeline([\n",
        "        (\"poly_features\", PolynomialFeatures(degree=90, include_bias=False)),\n",
        "        (\"std_scaler\", StandardScaler())\n",
        "    ])\n",
        "X_train_poly_scaled = poly_scaler.fit_transform(X_train)\n",
        "X_val_poly_scaled = poly_scaler.transform(X_val)\n",
        "\n",
        "sgd_reg = SGDRegressor(max_iter=1, tol=-np.infty, warm_start=True,\n",
        "                       penalty=None, learning_rate=\"constant\", eta0=0.0005)\n",
        "\n",
        "minimum_val_error = float(\"inf\")\n",
        "best_epoch = None\n",
        "best_model = None\n",
        "for epoch in range(1000):\n",
        "    sgd_reg.fit(X_train_poly_scaled, y_train) # continues where it left off\n",
        "    y_val_predict = sgd_reg.predict(X_val_poly_scaled)\n",
        "    val_error = mean_squared_error(y_val, y_val_predict)\n",
        "    if val_error < minimum_val_error:\n",
        "        minimum_val_error = val_error\n",
        "        best_epoch = epoch\n",
        "        best_model = clone(sgd_reg)"
      ],
      "metadata": {
        "id": "k_ib8_NO53El"
      },
      "execution_count": null,
      "outputs": []
    },
    {
      "cell_type": "markdown",
      "source": [
        "Load the data to build a classifier to detect the Iris virginica type based only on the petal\n",
        "width feature"
      ],
      "metadata": {
        "id": "6CWaL1bA6R2H"
      }
    },
    {
      "cell_type": "code",
      "source": [
        ">>> from sklearn import datasets\n",
        ">>> iris = datasets.load_iris()\n",
        ">>> list(iris.keys())\n",
        ">>> X = iris[\"data\"][:, 3:] # petal width\n",
        ">>> y = (iris[\"target\"] == 2).astype(np.int) # 1 if Iris virginica, else 0"
      ],
      "metadata": {
        "id": "t9X8Vawg6NbO"
      },
      "execution_count": null,
      "outputs": []
    },
    {
      "cell_type": "markdown",
      "source": [
        "Train a Logistic Regression model"
      ],
      "metadata": {
        "id": "VBTOa3TC6dkC"
      }
    },
    {
      "cell_type": "code",
      "source": [
        "from sklearn.linear_model import LogisticRegression\n",
        "\n",
        "log_reg = LogisticRegression()\n",
        "log_reg.fit(X, y)"
      ],
      "metadata": {
        "id": "QjEbnqwQ6YuC"
      },
      "execution_count": null,
      "outputs": []
    },
    {
      "cell_type": "markdown",
      "source": [
        "Plot the model’s estimated probabilities for flowers with petal widths varying\n",
        "from 0 cm to 3 cm"
      ],
      "metadata": {
        "id": "IOlMhuUt6hgH"
      }
    },
    {
      "cell_type": "code",
      "source": [
        "X_new = np.linspace(0, 3, 1000).reshape(-1, 1)\n",
        "y_proba = log_reg.predict_proba(X_new)\n",
        "plt.plot(X_new, y_proba[:, 1], \"g-\", label=\"Iris virginica\")\n",
        "plt.plot(X_new, y_proba[:, 0], \"b--\", label=\"Not Iris virginica\")"
      ],
      "metadata": {
        "id": "cZDihXGc6fsp"
      },
      "execution_count": null,
      "outputs": []
    },
    {
      "cell_type": "code",
      "source": [
        ">>> log_reg.predict([[1.7], [1.5]])"
      ],
      "metadata": {
        "id": "DixgBhSc6lp2"
      },
      "execution_count": null,
      "outputs": []
    },
    {
      "cell_type": "markdown",
      "source": [
        "Using Softmax Regression to classify the iris flowers into all three classes"
      ],
      "metadata": {
        "id": "tc2Sp2156ygb"
      }
    },
    {
      "cell_type": "code",
      "source": [
        "X = iris[\"data\"][:, (2, 3)] # petal length, petal width\n",
        "y = iris[\"target\"]\n",
        "\n",
        "softmax_reg = LogisticRegression(multi_class=\"multinomial\",solver=\"lbfgs\", C=10)\n",
        "softmax_reg.fit(X, y)"
      ],
      "metadata": {
        "id": "AGv79uLk6tcb"
      },
      "execution_count": null,
      "outputs": []
    },
    {
      "cell_type": "code",
      "source": [
        ">>> softmax_reg.predict([[5, 2]])\n",
        "\n",
        ">>> softmax_reg.predict_proba([[5, 2]])"
      ],
      "metadata": {
        "id": "i6iDDPvM63Uo"
      },
      "execution_count": null,
      "outputs": []
    }
  ]
}