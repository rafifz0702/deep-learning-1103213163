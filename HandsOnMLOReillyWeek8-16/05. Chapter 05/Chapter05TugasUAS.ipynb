{
  "nbformat": 4,
  "nbformat_minor": 0,
  "metadata": {
    "colab": {
      "provenance": []
    },
    "kernelspec": {
      "name": "python3",
      "display_name": "Python 3"
    },
    "language_info": {
      "name": "python"
    }
  },
  "cells": [
    {
      "cell_type": "markdown",
      "source": [
        "Load the iris dataset, scale the features, and\n",
        "train a linear SVM model to detect Iris virginica flowers"
      ],
      "metadata": {
        "id": "X1J_lw6bDw1P"
      }
    },
    {
      "cell_type": "code",
      "execution_count": null,
      "metadata": {
        "id": "JQYVWTvQDmEU"
      },
      "outputs": [],
      "source": [
        "import numpy as np\n",
        "from sklearn import datasets\n",
        "from sklearn.pipeline import Pipeline\n",
        "from sklearn.preprocessing import StandardScaler\n",
        "from sklearn.svm import LinearSVC\n",
        "\n",
        "iris = datasets.load_iris()\n",
        "X = iris[\"data\"][:, (2, 3)] # petal length, petal width\n",
        "y = (iris[\"target\"] == 2).astype(np.float64) # Iris virginica\n",
        "\n",
        "svm_clf = Pipeline([\n",
        "        (\"scaler\", StandardScaler()),\n",
        "        (\"linear_svc\", LinearSVC(C=1, loss=\"hinge\")),\n",
        "    ])\n",
        "\n",
        "svm_clf.fit(X, y)"
      ]
    },
    {
      "cell_type": "markdown",
      "source": [
        "Use the model to make predictions"
      ],
      "metadata": {
        "id": "9FZ-sFROD7ff"
      }
    },
    {
      "cell_type": "code",
      "source": [
        ">>> svm_clf.predict([[5.5, 1.7]])"
      ],
      "metadata": {
        "id": "IuOk-8I0D5IN"
      },
      "execution_count": null,
      "outputs": []
    },
    {
      "cell_type": "markdown",
      "source": [
        "Generate the moons dataset using the\n",
        "`make_moons()` function"
      ],
      "metadata": {
        "id": "O-9LD8GsEEqY"
      }
    },
    {
      "cell_type": "code",
      "source": [
        "from sklearn.datasets import make_moons\n",
        "from sklearn.pipeline import Pipeline\n",
        "from sklearn.preprocessing import PolynomialFeatures\n",
        "\n",
        "X, y = make_moons(n_samples=100, noise=0.15)\n",
        "\n",
        "polynomial_svm_clf = Pipeline([\n",
        "        (\"poly_features\", PolynomialFeatures(degree=3)),\n",
        "        (\"scaler\", StandardScaler()),\n",
        "        (\"svm_clf\", LinearSVC(C=10, loss=\"hinge\"))\n",
        "    ])\n",
        "\n",
        "polynomial_svm_clf.fit(X, y)"
      ],
      "metadata": {
        "id": "4F138HgTD-3q"
      },
      "execution_count": null,
      "outputs": []
    },
    {
      "cell_type": "markdown",
      "source": [
        "Implementing the kernel trick to make it\n",
        "possible to get the same result as if you had added many polynomial features, even\n",
        "with very high-degree polynomials, without actually having to add them. Testing the trick on the moons\n",
        "dataset."
      ],
      "metadata": {
        "id": "_YOATPS2EbHf"
      }
    },
    {
      "cell_type": "code",
      "source": [
        "from sklearn.svm import SVC\n",
        "\n",
        "poly_kernel_svm_clf = Pipeline([\n",
        "        (\"scaler\", StandardScaler()),\n",
        "        (\"svm_clf\", SVC(kernel=\"poly\", degree=3, coef0=1, C=5))\n",
        "    ])\n",
        "\n",
        "poly_kernel_svm_clf.fit(X, y)"
      ],
      "metadata": {
        "id": "Vl7muXidEP9Q"
      },
      "execution_count": null,
      "outputs": []
    },
    {
      "cell_type": "markdown",
      "source": [
        "Trying the SVC class (The Kernel Trick) with the Gaussian RBF\n",
        "kernel."
      ],
      "metadata": {
        "id": "JsX0wuhaE1oT"
      }
    },
    {
      "cell_type": "code",
      "source": [
        "rbf_kernel_svm_clf = Pipeline([\n",
        "        (\"scaler\", StandardScaler()),\n",
        "        (\"svm_clf\", SVC(kernel=\"rbf\", gamma=5, C=0.001))\n",
        "    ])\n",
        "\n",
        "rbf_kernel_svm_clf.fit(X, y)"
      ],
      "metadata": {
        "id": "42HFKiM0Eynv"
      },
      "execution_count": null,
      "outputs": []
    },
    {
      "cell_type": "markdown",
      "source": [
        "Perform linear SVM Regression using Scikit-Learn’s `LinearSVR` class"
      ],
      "metadata": {
        "id": "iuDJIOODFF4Q"
      }
    },
    {
      "cell_type": "code",
      "source": [
        "from sklearn.svm import LinearSVR\n",
        "\n",
        "svm_reg = LinearSVR(epsilon=1.5)\n",
        "svm_reg.fit(X, y)"
      ],
      "metadata": {
        "id": "_yp_B6TiFDZS"
      },
      "execution_count": null,
      "outputs": []
    },
    {
      "cell_type": "markdown",
      "source": [
        "Using Scikit-Learn’s `SVR` class (which supports the kernel trick)"
      ],
      "metadata": {
        "id": "MoPtCrrqFVVs"
      }
    },
    {
      "cell_type": "code",
      "source": [
        "from sklearn.svm import SVR\n",
        "\n",
        "svm_poly_reg = SVR(kernel=\"poly\", degree=2, C=100, epsilon=0.1)\n",
        "svm_poly_reg.fit(X, y)"
      ],
      "metadata": {
        "id": "lo7_fUGuFMQT"
      },
      "execution_count": null,
      "outputs": []
    }
  ]
}