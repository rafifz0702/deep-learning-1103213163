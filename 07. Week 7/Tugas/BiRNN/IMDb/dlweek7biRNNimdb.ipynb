{
  "nbformat": 4,
  "nbformat_minor": 0,
  "metadata": {
    "colab": {
      "provenance": [],
      "gpuType": "T4"
    },
    "kernelspec": {
      "name": "python3",
      "display_name": "Python 3"
    },
    "language_info": {
      "name": "python"
    },
    "accelerator": "GPU"
  },
  "cells": [
    {
      "cell_type": "code",
      "source": [
        "!pip install -q keras-tuner"
      ],
      "metadata": {
        "colab": {
          "base_uri": "https://localhost:8080/"
        },
        "id": "APEPoAOhx5hz",
        "outputId": "e0776193-ac5b-4d4e-dd28-9408512557b4"
      },
      "execution_count": 7,
      "outputs": [
        {
          "output_type": "stream",
          "name": "stdout",
          "text": [
            "\u001b[?25l   \u001b[90m━━━━━━━━━━━━━━━━━━━━━━━━━━━━━━━━━━━━━━━━\u001b[0m \u001b[32m0.0/129.1 kB\u001b[0m \u001b[31m?\u001b[0m eta \u001b[36m-:--:--\u001b[0m\r\u001b[2K   \u001b[91m━━━━━━━━━━━━━━━━━━━━━━━━━━━━━━━━━━━━━━\u001b[0m\u001b[90m╺\u001b[0m\u001b[90m━\u001b[0m \u001b[32m122.9/129.1 kB\u001b[0m \u001b[31m4.2 MB/s\u001b[0m eta \u001b[36m0:00:01\u001b[0m\r\u001b[2K   \u001b[90m━━━━━━━━━━━━━━━━━━━━━━━━━━━━━━━━━━━━━━━━\u001b[0m \u001b[32m129.1/129.1 kB\u001b[0m \u001b[31m3.1 MB/s\u001b[0m eta \u001b[36m0:00:00\u001b[0m\n",
            "\u001b[?25h"
          ]
        }
      ]
    },
    {
      "cell_type": "code",
      "execution_count": 8,
      "metadata": {
        "id": "h8rMZEKTLScC"
      },
      "outputs": [],
      "source": [
        "import tensorflow as tf\n",
        "from tensorflow.keras import layers, models\n",
        "import keras_tuner as kt\n",
        "from tensorflow.keras.datasets import imdb\n",
        "import matplotlib.pyplot as plt\n",
        "from sklearn.metrics import accuracy_score, precision_score, recall_score, f1_score, roc_auc_score"
      ]
    },
    {
      "cell_type": "code",
      "source": [
        "# Load the data\n",
        "(num_words, maxlen) = 10000, 500  # Top 10,000 most frequent words, truncating reviews to 500 words\n",
        "(X_train, y_train), (X_test, y_test) = imdb.load_data(num_words=num_words)\n",
        "\n",
        "# Pad sequences to ensure uniform length\n",
        "X_train = tf.keras.preprocessing.sequence.pad_sequences(X_train, maxlen=maxlen)\n",
        "X_test = tf.keras.preprocessing.sequence.pad_sequences(X_test, maxlen=maxlen)"
      ],
      "metadata": {
        "id": "Tj1uBJd7MczO"
      },
      "execution_count": 9,
      "outputs": []
    },
    {
      "cell_type": "code",
      "source": [
        "# Function to create the BiRNN Model\n",
        "def create_birnn_model(hp):\n",
        "    embedding_dim = hp.Int('embedding_dim', min_value=64, max_value=128, step=64)\n",
        "    rnn_units = hp.Int('rnn_units', min_value=64, max_value=256, step=64)\n",
        "    dropout_rate = hp.Float('dropout_rate', min_value=0.2, max_value=0.3, step=0.1)\n",
        "\n",
        "    model = models.Sequential([\n",
        "        layers.Embedding(input_dim=num_words, output_dim=embedding_dim, input_length=maxlen),\n",
        "        layers.Bidirectional(layers.LSTM(rnn_units, dropout=dropout_rate)),\n",
        "        layers.Dense(1, activation='sigmoid')\n",
        "    ])\n",
        "    model.compile(optimizer='adam', loss='binary_crossentropy', metrics=['accuracy'])\n",
        "    return model\n",
        "\n",
        "# Use Hyperband for hyperparameter tuning\n",
        "tuner = kt.Hyperband(\n",
        "    create_birnn_model,\n",
        "    objective='val_accuracy',\n",
        "    max_epochs=10,\n",
        "    hyperband_iterations=2,\n",
        "    directory='my_dir',\n",
        "    project_name='imdb_birnn_tuning'\n",
        ")"
      ],
      "metadata": {
        "id": "wDjwk5fpMqAp"
      },
      "execution_count": 10,
      "outputs": []
    },
    {
      "cell_type": "code",
      "source": [
        "# Run hyperparameter search\n",
        "tuner.search(X_train, y_train, epochs=3, validation_split=0.2)\n",
        "\n",
        "# Get the best model\n",
        "best_model = tuner.get_best_models(num_models=1)[0]\n",
        "\n",
        "# Evaluate the best model\n",
        "y_pred_best = best_model.predict(X_test)\n",
        "y_pred_binary_best = (y_pred_best > 0.5).astype(int)\n",
        "\n",
        "accuracy_best = accuracy_score(y_test, y_pred_binary_best)\n",
        "precision_best = precision_score(y_test, y_pred_binary_best)\n",
        "recall_best = recall_score(y_test, y_pred_binary_best)\n",
        "f1_best = f1_score(y_test, y_pred_binary_best)\n",
        "roc_auc_best = roc_auc_score(y_test, y_pred_best)\n",
        "\n",
        "print(\"\\nBest Model Evaluation Metrics:\")\n",
        "print(f'Accuracy: {accuracy_best:.4f}')\n",
        "print(f'Precision: {precision_best:.4f}')\n",
        "print(f'Recall: {recall_best:.4f}')\n",
        "print(f'F1 Score: {f1_best:.4f}')\n",
        "print(f'ROC AUC: {roc_auc_best:.4f}')"
      ],
      "metadata": {
        "colab": {
          "base_uri": "https://localhost:8080/"
        },
        "id": "qBXmTxD9MrFY",
        "outputId": "966b714b-a19e-4633-ad5d-083779312899"
      },
      "execution_count": null,
      "outputs": [
        {
          "output_type": "stream",
          "name": "stdout",
          "text": [
            "Trial 1 Complete [00h 12m 18s]\n",
            "val_accuracy: 0.8669999837875366\n",
            "\n",
            "Best val_accuracy So Far: 0.8669999837875366\n",
            "Total elapsed time: 00h 12m 18s\n",
            "\n",
            "Search: Running Trial #2\n",
            "\n",
            "Value             |Best Value So Far |Hyperparameter\n",
            "64                |64                |embedding_dim\n",
            "192               |64                |rnn_units\n",
            "0.2               |0.2               |dropout_rate\n",
            "2                 |2                 |tuner/epochs\n",
            "0                 |0                 |tuner/initial_epoch\n",
            "2                 |2                 |tuner/bracket\n",
            "0                 |0                 |tuner/round\n",
            "\n",
            "Epoch 1/2\n",
            "\u001b[1m625/625\u001b[0m \u001b[32m━━━━━━━━━━━━━━━━━━━━\u001b[0m\u001b[37m\u001b[0m \u001b[1m1430s\u001b[0m 2s/step - accuracy: 0.6579 - loss: 0.6076 - val_accuracy: 0.8334 - val_loss: 0.4020\n",
            "Epoch 2/2\n",
            "\u001b[1m559/625\u001b[0m \u001b[32m━━━━━━━━━━━━━━━━━\u001b[0m\u001b[37m━━━\u001b[0m \u001b[1m2:20\u001b[0m 2s/step - accuracy: 0.8613 - loss: 0.3368"
          ]
        }
      ]
    }
  ]
}